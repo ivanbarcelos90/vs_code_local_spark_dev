{
 "cells": [
  {
   "cell_type": "code",
   "execution_count": 1,
   "metadata": {},
   "outputs": [],
   "source": [
    "from pyspark.sql import SparkSession\n",
    "from pyspark.sql.types import StructType, StructField, StringType"
   ]
  },
  {
   "cell_type": "code",
   "execution_count": 2,
   "metadata": {},
   "outputs": [
    {
     "name": "stderr",
     "output_type": "stream",
     "text": [
      "SLF4J: Class path contains multiple SLF4J bindings.\n",
      "SLF4J: Found binding in [jar:file:/home/glue_user/spark/jars/log4j-slf4j-impl-2.17.2.jar!/org/slf4j/impl/StaticLoggerBinder.class]\n",
      "SLF4J: Found binding in [jar:file:/home/glue_user/spark/jars/slf4j-reload4j-1.7.36.jar!/org/slf4j/impl/StaticLoggerBinder.class]\n",
      "SLF4J: Found binding in [jar:file:/home/glue_user/aws-glue-libs/jars/log4j-slf4j-impl-2.17.2.jar!/org/slf4j/impl/StaticLoggerBinder.class]\n",
      "SLF4J: Found binding in [jar:file:/home/glue_user/aws-glue-libs/jars/slf4j-reload4j-1.7.36.jar!/org/slf4j/impl/StaticLoggerBinder.class]\n",
      "SLF4J: See http://www.slf4j.org/codes.html#multiple_bindings for an explanation.\n",
      "SLF4J: Actual binding is of type [org.apache.logging.slf4j.Log4jLoggerFactory]\n",
      "Setting default log level to \"WARN\".\n",
      "To adjust logging level use sc.setLogLevel(newLevel). For SparkR, use setLogLevel(newLevel).\n"
     ]
    }
   ],
   "source": [
    "spark = SparkSession.builder.getOrCreate()"
   ]
  },
  {
   "cell_type": "code",
   "execution_count": 8,
   "metadata": {},
   "outputs": [
    {
     "ename": "NameError",
     "evalue": "name 'StructType' is not defined",
     "output_type": "error",
     "traceback": [
      "\u001b[0;31m---------------------------------------------------------------------------\u001b[0m",
      "\u001b[0;31mNameError\u001b[0m                                 Traceback (most recent call last)",
      "Cell \u001b[0;32mIn[8], line 1\u001b[0m\n\u001b[0;32m----> 1\u001b[0m schema \u001b[39m=\u001b[39m StructType([\n\u001b[1;32m      2\u001b[0m     StructField(\u001b[39m\"\u001b[39m\u001b[39mLocalidades\u001b[39m\u001b[39m\"\u001b[39m, StringType(), \u001b[39mTrue\u001b[39;00m),\n\u001b[1;32m      3\u001b[0m     StructField(\u001b[39m\"\u001b[39m\u001b[39mPeríodos\u001b[39m\u001b[39m\"\u001b[39m, StringType(), \u001b[39mTrue\u001b[39;00m),\n\u001b[1;32m      4\u001b[0m     StructField(\u001b[39m\"\u001b[39m\u001b[39mPopulação de 0 a 4 Anos \u001b[39m\u001b[39m\"\u001b[39m, StringType(), \u001b[39mTrue\u001b[39;00m),\n\u001b[1;32m      5\u001b[0m     StructField(\u001b[39m\"\u001b[39m\u001b[39mPopulação de 5 a 9 Anos \u001b[39m\u001b[39m\"\u001b[39m, StringType(), \u001b[39mTrue\u001b[39;00m),\n\u001b[1;32m      6\u001b[0m     StructField(\u001b[39m\"\u001b[39m\u001b[39mPopulação de 10 a 14 Anos \u001b[39m\u001b[39m\"\u001b[39m, StringType(), \u001b[39mTrue\u001b[39;00m),\n\u001b[1;32m      7\u001b[0m     StructField(\u001b[39m\"\u001b[39m\u001b[39mPopulação de 15 a 19 Anos \u001b[39m\u001b[39m\"\u001b[39m, StringType(), \u001b[39mTrue\u001b[39;00m),\n\u001b[1;32m      8\u001b[0m     StructField(\u001b[39m\"\u001b[39m\u001b[39mPopulação de 20 a 24 Anos \u001b[39m\u001b[39m\"\u001b[39m, StringType(), \u001b[39mTrue\u001b[39;00m),\n\u001b[1;32m      9\u001b[0m     StructField(\u001b[39m\"\u001b[39m\u001b[39mPopulação de 25 a 29 Anos \u001b[39m\u001b[39m\"\u001b[39m, StringType(), \u001b[39mTrue\u001b[39;00m),\n\u001b[1;32m     10\u001b[0m     StructField(\u001b[39m\"\u001b[39m\u001b[39mPopulação de 30 a 34 Anos \u001b[39m\u001b[39m\"\u001b[39m, StringType(), \u001b[39mTrue\u001b[39;00m),\n\u001b[1;32m     11\u001b[0m     StructField(\u001b[39m\"\u001b[39m\u001b[39mPopulação de 35 a 39 Anos \u001b[39m\u001b[39m\"\u001b[39m, StringType(), \u001b[39mTrue\u001b[39;00m),\n\u001b[1;32m     12\u001b[0m     StructField(\u001b[39m\"\u001b[39m\u001b[39mPopulação de 40 a 44 Anos \u001b[39m\u001b[39m\"\u001b[39m, StringType(), \u001b[39mTrue\u001b[39;00m),\n\u001b[1;32m     13\u001b[0m     StructField(\u001b[39m\"\u001b[39m\u001b[39mPopulação de 45 a 49 Anos \u001b[39m\u001b[39m\"\u001b[39m, StringType(), \u001b[39mTrue\u001b[39;00m),\n\u001b[1;32m     14\u001b[0m     StructField(\u001b[39m\"\u001b[39m\u001b[39mPopulação de 50 a 54 Anos \u001b[39m\u001b[39m\"\u001b[39m, StringType(), \u001b[39mTrue\u001b[39;00m),\n\u001b[1;32m     15\u001b[0m     StructField(\u001b[39m\"\u001b[39m\u001b[39mPopulação de 55 a 59 Anos \u001b[39m\u001b[39m\"\u001b[39m, StringType(), \u001b[39mTrue\u001b[39;00m),\n\u001b[1;32m     16\u001b[0m     StructField(\u001b[39m\"\u001b[39m\u001b[39mPopulação de 60 a 64 Anos \u001b[39m\u001b[39m\"\u001b[39m, StringType(), \u001b[39mTrue\u001b[39;00m),\n\u001b[1;32m     17\u001b[0m     StructField(\u001b[39m\"\u001b[39m\u001b[39mPopulação de 65 a 69 Anos \u001b[39m\u001b[39m\"\u001b[39m, StringType(), \u001b[39mTrue\u001b[39;00m),\n\u001b[1;32m     18\u001b[0m     StructField(\u001b[39m\"\u001b[39m\u001b[39mPopulação de 70 a 74 Anos \u001b[39m\u001b[39m\"\u001b[39m, StringType(), \u001b[39mTrue\u001b[39;00m),\n\u001b[1;32m     19\u001b[0m     StructField(\u001b[39m\"\u001b[39m\u001b[39mPopulação de 75 Anos e Mais \u001b[39m\u001b[39m\"\u001b[39m, StringType(), \u001b[39mTrue\u001b[39;00m),\n\u001b[1;32m     20\u001b[0m     StructField(\u001b[39m\"\u001b[39m\u001b[39mCód. IBGE\u001b[39m\u001b[39m\"\u001b[39m, StringType(), \u001b[39mTrue\u001b[39;00m)\n\u001b[1;32m     21\u001b[0m     \n\u001b[1;32m     22\u001b[0m ])\n",
      "\u001b[0;31mNameError\u001b[0m: name 'StructType' is not defined"
     ]
    }
   ],
   "source": [
    "schema = StructType([\n",
    "    StructField(\"Localidades\", StringType(), True),\n",
    "    StructField(\"Períodos\", StringType(), True),\n",
    "    StructField(\"População de 0 a 4 Anos \", StringType(), True),\n",
    "    StructField(\"População de 5 a 9 Anos \", StringType(), True),\n",
    "    StructField(\"População de 10 a 14 Anos \", StringType(), True),\n",
    "    StructField(\"População de 15 a 19 Anos \", StringType(), True),\n",
    "    StructField(\"População de 20 a 24 Anos \", StringType(), True),\n",
    "    StructField(\"População de 25 a 29 Anos \", StringType(), True),\n",
    "    StructField(\"População de 30 a 34 Anos \", StringType(), True),\n",
    "    StructField(\"População de 35 a 39 Anos \", StringType(), True),\n",
    "    StructField(\"População de 40 a 44 Anos \", StringType(), True),\n",
    "    StructField(\"População de 45 a 49 Anos \", StringType(), True),\n",
    "    StructField(\"População de 50 a 54 Anos \", StringType(), True),\n",
    "    StructField(\"População de 55 a 59 Anos \", StringType(), True),\n",
    "    StructField(\"População de 60 a 64 Anos \", StringType(), True),\n",
    "    StructField(\"População de 65 a 69 Anos \", StringType(), True),\n",
    "    StructField(\"População de 70 a 74 Anos \", StringType(), True),\n",
    "    StructField(\"População de 75 Anos e Mais \", StringType(), True),\n",
    "    StructField(\"Cód. IBGE\", StringType(), True)\n",
    "    \n",
    "])\n"
   ]
  },
  {
   "cell_type": "code",
   "execution_count": 5,
   "metadata": {},
   "outputs": [],
   "source": [
    "df =  spark.read.csv(\"s3://sor/sp_populacao/populacao_por_faixa_de_idade.csv\", sep=\";\", header=True, schema=schema) "
   ]
  },
  {
   "cell_type": "code",
   "execution_count": 6,
   "metadata": {},
   "outputs": [
    {
     "name": "stdout",
     "output_type": "stream",
     "text": [
      "+--------------+--------+--------------------+--------------------+--------------------+--------------------+--------------------+--------------------+--------------------+--------------------+--------------------+--------------------+--------------------+--------------------+--------------------+--------------------+--------------------+--------------------+---------+\n",
      "|           _c0|     _c1|                 _c2|                 _c3|                 _c4|                 _c5|                 _c6|                 _c7|                 _c8|                 _c9|                _c10|                _c11|                _c12|                _c13|                _c14|                _c15|                _c16|                _c17|     _c18|\n",
      "+--------------+--------+--------------------+--------------------+--------------------+--------------------+--------------------+--------------------+--------------------+--------------------+--------------------+--------------------+--------------------+--------------------+--------------------+--------------------+--------------------+--------------------+---------+\n",
      "|   Localidades|Per�odos|Popula��o de 0 a ...|Popula��o de 5 a ...|Popula��o de 10 a...|Popula��o de 15 a...|Popula��o de 20 a...|Popula��o de 25 a...|Popula��o de 30 a...|Popula��o de 35 a...|Popula��o de 40 a...|Popula��o de 45 a...|Popula��o de 50 a...|Popula��o de 55 a...|Popula��o de 60 a...|Popula��o de 65 a...|Popula��o de 70 a...|Popula��o de 75 A...|C�d. IBGE|\n",
      "|    Adamantina|    2017|                1789|                1738|                1804|                2068|                2446|                2677|                2547|                2386|                2334|                2428|                2475|                2292|                1967|                1619|                1263|                2052|  3500105|\n",
      "|    Adamantina|    2018|                1767|                1766|                1760|                2004|                2354|                2654|                2595|                2401|                2333|                2386|                2470|                2331|                2016|                1661|                1304|                2086|  3500105|\n",
      "|    Adamantina|    2019|                1746|                1795|                1717|                1942|                2265|                2631|                2639|                2415|                2330|                2344|                2466|                2369|                2066|                1703|                1344|                2119|  3500105|\n",
      "|    Adamantina|    2020|                1723|                1822|                1673|                1880|                2179|                2608|                2688|                2427|                2327|                2301|                2461|                2407|                2116|                1745|                1385|                2152|  3500105|\n",
      "|    Adamantina|    2021|                1691|                1803|                1702|                1837|                2116|                2515|                2668|                2475|                2345|                2303|                2422|                2407|                2156|                1794|                1425|                2210|  3500105|\n",
      "|        Adolfo|    2017|                 170|                 183|                 209|                 236|                 250|                 267|                 255|                 234|                 234|                 247|                 255|                 252|                 210|                 175|                 126|                 176|  3500204|\n",
      "|        Adolfo|    2018|                 169|                 179|                 202|                 230|                 245|                 266|                 257|                 236|                 231|                 242|                 252|                 250|                 220|                 175|                 135|                 180|  3500204|\n",
      "|        Adolfo|    2019|                 167|                 175|                 195|                 225|                 242|                 251|                 268|                 238|                 226|                 237|                 250|                 249|                 229|                 177|                 145|                 184|  3500204|\n",
      "|        Adolfo|    2020|                 165|                 172|                 188|                 220|                 238|                 246|                 264|                 240|                 223|                 234|                 248|                 248|                 240|                 178|                 155|                 188|  3500204|\n",
      "|        Adolfo|    2021|                 163|                 170|                 185|                 212|                 233|                 243|                 263|                 243|                 225|                 231|                 244|                 246|                 239|                 186|                 156|                 197|  3500204|\n",
      "|         Agua�|    2017|                2367|                2335|                2330|                2583|                2920|                3072|                3083|                2743|                2351|                2175|                2043|                1861|                1538|                1219|                 808|                1150|  3500303|\n",
      "|         Agua�|    2018|                2372|                2348|                2329|                2513|                2894|                3083|                3093|                2848|                2413|                2187|                2066|                1886|                1597|                1251|                 875|                1164|  3500303|\n",
      "|         Agua�|    2019|                2375|                2359|                2329|                2445|                2865|                3092|                3106|                2953|                2475|                2200|                2088|                1912|                1657|                1284|                 944|                1177|  3500303|\n",
      "|         Agua�|    2020|                2377|                2370|                2328|                2378|                2837|                3100|                3117|                3062|                2539|                2212|                2108|                1935|                1718|                1316|                1021|                1190|  3500303|\n",
      "|         Agua�|    2021|                2360|                2376|                2341|                2377|                2758|                3068|                3124|                3077|                2636|                2271|                2123|                1959|                1744|                1369|                1050|                1252|  3500303|\n",
      "|�guas da Prata|    2017|                 379|                 400|                 436|                 494|                 575|                 628|                 585|                 527|                 517|                 519|                 542|                 527|                 451|                 367|                 289|                 503|  3500402|\n",
      "|�guas da Prata|    2018|                 377|                 393|                 429|                 482|                 562|                 631|                 598|                 538|                 513|                 520|                 531|                 536|                 464|                 377|                 298|                 509|  3500402|\n",
      "|�guas da Prata|    2019|                 377|                 387|                 423|                 469|                 548|                 631|                 611|                 550|                 509|                 522|                 520|                 543|                 478|                 388|                 306|                 515|  3500402|\n",
      "|�guas da Prata|    2020|                 377|                 381|                 416|                 458|                 536|                 622|                 626|                 562|                 505|                 523|                 510|                 552|                 493|                 400|                 315|                 521|  3500402|\n",
      "+--------------+--------+--------------------+--------------------+--------------------+--------------------+--------------------+--------------------+--------------------+--------------------+--------------------+--------------------+--------------------+--------------------+--------------------+--------------------+--------------------+--------------------+---------+\n",
      "only showing top 20 rows\n",
      "\n"
     ]
    }
   ],
   "source": [
    "df.show()"
   ]
  }
 ],
 "metadata": {
  "kernelspec": {
   "display_name": "Python 3",
   "language": "python",
   "name": "python3"
  },
  "language_info": {
   "codemirror_mode": {
    "name": "ipython",
    "version": 3
   },
   "file_extension": ".py",
   "mimetype": "text/x-python",
   "name": "python",
   "nbconvert_exporter": "python",
   "pygments_lexer": "ipython3",
   "version": "3.10.2"
  },
  "orig_nbformat": 4
 },
 "nbformat": 4,
 "nbformat_minor": 2
}
